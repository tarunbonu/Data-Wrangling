{
 "cells": [
  {
   "cell_type": "code",
   "execution_count": 1,
   "metadata": {
    "ExecuteTime": {
     "end_time": "2019-04-17T02:47:18.739570Z",
     "start_time": "2019-04-17T02:47:18.731978Z"
    }
   },
   "outputs": [],
   "source": [
    "import re\n",
    "import sys\n",
    "file_name = 'doc_2.txt'\n",
    "\n",
    "text = open(file_name).read() #Read the document"
   ]
  },
  {
   "cell_type": "code",
   "execution_count": 2,
   "metadata": {
    "ExecuteTime": {
     "end_time": "2019-04-17T02:47:20.034647Z",
     "start_time": "2019-04-17T02:47:20.031216Z"
    }
   },
   "outputs": [],
   "source": [
    "text = text.replace('\\t',' ').split('\\n')\n",
    "text = [x.strip(' ') for x in text if x] #Ignore empty newlines"
   ]
  },
  {
   "cell_type": "code",
   "execution_count": 3,
   "metadata": {
    "ExecuteTime": {
     "end_time": "2019-04-17T02:47:20.744009Z",
     "start_time": "2019-04-17T02:47:20.733895Z"
    }
   },
   "outputs": [],
   "source": [
    "def get_index_and_clauses(text):\n",
    "    all_clauses = []\n",
    "    indexes = []\n",
    "\n",
    "    ptns = ['.', '(']\n",
    "    ptns_1 = ['1','2','3', '4','5','6','7','8','9','0']\n",
    "    ptns_2 = ['(']\n",
    "    ptns_3 = ['A','B','C','D','E','F','G','H','I','J','K']\n",
    "    exp_1 = re.compile(r'\\d+(\\.\\d+)')\n",
    "    exp_2 = re.compile(r'\\d+(\\.)')\n",
    "\n",
    "    for sentence in text:\n",
    "        res = any([ p in s for p in ptns for s in sentence.split(' ')[:3] ]) # Initial filter; Need not check every sentene for every pattern.\n",
    "        if res:\n",
    "            all_clauses.append(sentence) # Extract potential clauses\n",
    "            \n",
    "            # Get indexing of the clause to which type of pattern the index might belong to\n",
    "            if (exp_1.search(sentence.split(' ')[0]) or exp_1.search(sentence.split(' ')[1])):\n",
    "                indexes.append('5')\n",
    "                continue\n",
    "            if exp_2.search(sentence.split(' ')[0]):\n",
    "                indexes.append('2')\n",
    "                continue\n",
    "            if any([ p in s for p in ptns_1 for s in sentence.split(' ')[:2] ]):\n",
    "                indexes.append('1')\n",
    "                continue\n",
    "            if any([ p in s for p in ptns_3 for s in sentence.split(' ')[:2] ]):\n",
    "                indexes.append('3')\n",
    "                continue\n",
    "            if any([ p in s for p in ptns_2 for s in sentence.split(' ')[:2] ]):\n",
    "                indexes.append('4')\n",
    "                \n",
    "    return indexes,all_clauses"
   ]
  },
  {
   "cell_type": "code",
   "execution_count": 4,
   "metadata": {
    "ExecuteTime": {
     "end_time": "2019-04-17T02:47:22.413385Z",
     "start_time": "2019-04-17T02:47:22.404776Z"
    }
   },
   "outputs": [],
   "source": [
    "def get_clause_tree(index,clauses):\n",
    "    \n",
    "    main_list = []\n",
    "    temp_list = []\n",
    "    temp_val_list = []\n",
    "    \n",
    "    if len(index) == 0:\n",
    "        return None\n",
    "    \n",
    "    temp_list.append(index[0])\n",
    "    temp_val_list.append(clauses[0])\n",
    "    \n",
    "    # Check for same level sub clauses under a clause\n",
    "    for i,val in enumerate(index[1:]):\n",
    "        if val == temp_list[0]:\n",
    "            \n",
    "            returns = get_clause_tree(temp_list[1:],temp_val_list[1:]) # Generate tuple of the clause and its sub clauses\n",
    "            if returns is None:\n",
    "                to_append = (temp_val_list[0])\n",
    "            else:\n",
    "                to_append = (temp_val_list[0],returns)\n",
    "            \n",
    "            main_list.append(to_append)\n",
    "            temp_list = []\n",
    "            temp_val_list = []\n",
    "        else:\n",
    "            pass\n",
    "        temp_list.append(val)\n",
    "        temp_val_list.append(clauses[i+1])\n",
    "    \n",
    "    returns = get_clause_tree(temp_list[1:],temp_val_list[1:]) # Generate tuple of the clause and its sub clauses\n",
    "    if returns is None:\n",
    "        to_append = (temp_val_list[0])\n",
    "    else:\n",
    "        to_append = (temp_val_list[0],returns)\n",
    "    main_list.append(to_append)\n",
    "    return main_list"
   ]
  },
  {
   "cell_type": "code",
   "execution_count": 5,
   "metadata": {
    "ExecuteTime": {
     "end_time": "2019-04-17T02:47:23.708251Z",
     "start_time": "2019-04-17T02:47:23.704356Z"
    }
   },
   "outputs": [],
   "source": [
    "# Get indexes and clause lists\n",
    "indexes,all_clauses = get_index_and_clauses(text)\n",
    "\n",
    "#Get the tree structure of the clauses\n",
    "clauses_tree = get_clause_tree(indexes,all_clauses)"
   ]
  },
  {
   "cell_type": "code",
   "execution_count": 6,
   "metadata": {
    "ExecuteTime": {
     "end_time": "2019-04-17T02:47:24.923450Z",
     "start_time": "2019-04-17T02:47:24.917275Z"
    }
   },
   "outputs": [
    {
     "name": "stdout",
     "output_type": "stream",
     "text": [
      "[('Article 1.',\n",
      "  ['A.IGW and Company (each a “Party, or collectively, “Parties”) recognize '\n",
      "   'that there is a need to disclose to each other certain Confidential '\n",
      "   'Information specifically related to [insert project description].',\n",
      "   'B.IGW and Company may exchange or have access to various proprietary, '\n",
      "   'confidential and sensitive commercial, technical or other information '\n",
      "   'related to the Project.']),\n",
      " ('Article 2.',\n",
      "  ['2.11 The Receiving Party takes all obligations resulting from this '\n",
      "   'agreement upon itself towards all Disclosing Parties which it received '\n",
      "   'Confidential Information from and shall fulfill all obligations towards '\n",
      "   'all such Disclosing Parties.',\n",
      "   '2.12 For the avoidance of doubt, in case of doubt, the relevant '\n",
      "   'information will be deemed to be Confidential Information, the burden of '\n",
      "   'proof of the possible non-confidential nature of any information disclosed '\n",
      "   'by the Disclosing Party being solely on the Receiving Party.',\n",
      "   ('3.2.1Disclosure of the Confidential Information is required by reason of '\n",
      "    'a governmental or judicial order or applicable law. In such a case, the '\n",
      "    'Receiving Party subject to such order or applicable law shall promptly '\n",
      "    'inform the Disclosing Party of its obligation to disclose Confidential '\n",
      "    'Information, if possible, prior to such disclosure. If the Disclosing '\n",
      "    'Party wishes to seek a protective order or otherwise dispute the order or '\n",
      "    'applicable law requiring disclosure, the Receiving Party shall cooperate '\n",
      "    'with the Disclosing Party in doing so; or',\n",
      "    ['1. This would also include some other things',\n",
      "     '1. There’s something else to consider',\n",
      "     '2. This is the second thing',\n",
      "     '1. This means the rest of the agreement is void']),\n",
      "   '3.2.2 Disclosure of the Confidential Information is made in confidence to '\n",
      "   'any third party with the prior written consent of the Disclosing Party.',\n",
      "   '3.2.3 Disclosure of the Confidential Information is necessary in the event '\n",
      "   'of legal proceedings between the Disclosing Party and the Receiving Party '\n",
      "   'which require such Confidential Information to be produced.'])]\n"
     ]
    }
   ],
   "source": [
    "# Final clauses tree\n",
    "from pprint import pprint\n",
    "pprint(clauses_tree)"
   ]
  },
  {
   "cell_type": "code",
   "execution_count": null,
   "metadata": {},
   "outputs": [],
   "source": []
  },
  {
   "cell_type": "code",
   "execution_count": null,
   "metadata": {},
   "outputs": [],
   "source": []
  }
 ],
 "metadata": {
  "kernelspec": {
   "display_name": "Python 3",
   "language": "python",
   "name": "python3"
  },
  "language_info": {
   "codemirror_mode": {
    "name": "ipython",
    "version": 3
   },
   "file_extension": ".py",
   "mimetype": "text/x-python",
   "name": "python",
   "nbconvert_exporter": "python",
   "pygments_lexer": "ipython3",
   "version": "3.7.1"
  }
 },
 "nbformat": 4,
 "nbformat_minor": 2
}
